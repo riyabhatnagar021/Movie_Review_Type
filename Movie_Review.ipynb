{
  "nbformat": 4,
  "nbformat_minor": 0,
  "metadata": {
    "colab": {
      "name": "Movie_Review.ipynb",
      "version": "0.3.2",
      "provenance": [],
      "collapsed_sections": [],
      "include_colab_link": true
    },
    "kernelspec": {
      "name": "python3",
      "display_name": "Python 3"
    },
    "accelerator": "GPU"
  },
  "cells": [
    {
      "cell_type": "markdown",
      "metadata": {
        "id": "view-in-github",
        "colab_type": "text"
      },
      "source": [
        "<a href=\"https://colab.research.google.com/github/riyabhatnagar021/Movie_Review_Type/blob/master/Movie_Review.ipynb\" target=\"_parent\"><img src=\"https://colab.research.google.com/assets/colab-badge.svg\" alt=\"Open In Colab\"/></a>"
      ]
    },
    {
      "cell_type": "code",
      "metadata": {
        "id": "hEjf_tdjEe45",
        "colab_type": "code",
        "outputId": "a3adc3c4-3d20-4280-efef-2cd49c01a81a",
        "colab": {
          "base_uri": "https://localhost:8080/",
          "height": 122
        }
      },
      "source": [
        "from google.colab import drive\n",
        "drive.mount('/content/drive')"
      ],
      "execution_count": 0,
      "outputs": [
        {
          "output_type": "stream",
          "text": [
            "Go to this URL in a browser: https://accounts.google.com/o/oauth2/auth?client_id=947318989803-6bn6qk8qdgf4n4g3pfee6491hc0brc4i.apps.googleusercontent.com&redirect_uri=urn%3Aietf%3Awg%3Aoauth%3A2.0%3Aoob&scope=email%20https%3A%2F%2Fwww.googleapis.com%2Fauth%2Fdocs.test%20https%3A%2F%2Fwww.googleapis.com%2Fauth%2Fdrive%20https%3A%2F%2Fwww.googleapis.com%2Fauth%2Fdrive.photos.readonly%20https%3A%2F%2Fwww.googleapis.com%2Fauth%2Fpeopleapi.readonly&response_type=code\n",
            "\n",
            "Enter your authorization code:\n",
            "··········\n",
            "Mounted at /content/drive\n"
          ],
          "name": "stdout"
        }
      ]
    },
    {
      "cell_type": "code",
      "metadata": {
        "id": "Kh7aFwnWEp-H",
        "colab_type": "code",
        "colab": {}
      },
      "source": [
        "import zipfile\n",
        "z=zipfile.ZipFile('drive/My Drive/project_data/Word-Embeddding-Sentiment-Classification-master.zip','r')\n",
        "z.extractall()"
      ],
      "execution_count": 0,
      "outputs": []
    },
    {
      "cell_type": "code",
      "metadata": {
        "id": "GM4UyySlEp7s",
        "colab_type": "code",
        "colab": {}
      },
      "source": [
        "import pandas as pd\n",
        "import numpy as np"
      ],
      "execution_count": 0,
      "outputs": []
    },
    {
      "cell_type": "code",
      "metadata": {
        "id": "xEXkai0iEp5M",
        "colab_type": "code",
        "outputId": "bfb7da85-8d08-441c-d0b5-0d1767abad24",
        "colab": {
          "base_uri": "https://localhost:8080/",
          "height": 204
        }
      },
      "source": [
        "df=pd.DataFrame()\n",
        "df=pd.read_csv('Word-Embeddding-Sentiment-Classification-master/movie_data.csv',encoding='utf-8')\n",
        "df.head()"
      ],
      "execution_count": 0,
      "outputs": [
        {
          "output_type": "execute_result",
          "data": {
            "text/html": [
              "<div>\n",
              "<style scoped>\n",
              "    .dataframe tbody tr th:only-of-type {\n",
              "        vertical-align: middle;\n",
              "    }\n",
              "\n",
              "    .dataframe tbody tr th {\n",
              "        vertical-align: top;\n",
              "    }\n",
              "\n",
              "    .dataframe thead th {\n",
              "        text-align: right;\n",
              "    }\n",
              "</style>\n",
              "<table border=\"1\" class=\"dataframe\">\n",
              "  <thead>\n",
              "    <tr style=\"text-align: right;\">\n",
              "      <th></th>\n",
              "      <th>review</th>\n",
              "      <th>sentiment</th>\n",
              "    </tr>\n",
              "  </thead>\n",
              "  <tbody>\n",
              "    <tr>\n",
              "      <th>0</th>\n",
              "      <td>I went and saw this movie last night after bei...</td>\n",
              "      <td>1</td>\n",
              "    </tr>\n",
              "    <tr>\n",
              "      <th>1</th>\n",
              "      <td>Actor turned director Bill Paxton follows up h...</td>\n",
              "      <td>1</td>\n",
              "    </tr>\n",
              "    <tr>\n",
              "      <th>2</th>\n",
              "      <td>As a recreational golfer with some knowledge o...</td>\n",
              "      <td>1</td>\n",
              "    </tr>\n",
              "    <tr>\n",
              "      <th>3</th>\n",
              "      <td>I saw this film in a sneak preview, and it is ...</td>\n",
              "      <td>1</td>\n",
              "    </tr>\n",
              "    <tr>\n",
              "      <th>4</th>\n",
              "      <td>Bill Paxton has taken the true story of the 19...</td>\n",
              "      <td>1</td>\n",
              "    </tr>\n",
              "  </tbody>\n",
              "</table>\n",
              "</div>"
            ],
            "text/plain": [
              "                                              review  sentiment\n",
              "0  I went and saw this movie last night after bei...          1\n",
              "1  Actor turned director Bill Paxton follows up h...          1\n",
              "2  As a recreational golfer with some knowledge o...          1\n",
              "3  I saw this film in a sneak preview, and it is ...          1\n",
              "4  Bill Paxton has taken the true story of the 19...          1"
            ]
          },
          "metadata": {
            "tags": []
          },
          "execution_count": 4
        }
      ]
    },
    {
      "cell_type": "code",
      "metadata": {
        "id": "72v6NuesEp2e",
        "colab_type": "code",
        "outputId": "35590c8a-3e32-4c05-e315-4c0feb664cd0",
        "colab": {
          "base_uri": "https://localhost:8080/",
          "height": 68
        }
      },
      "source": [
        "df['sentiment'].value_counts()"
      ],
      "execution_count": 0,
      "outputs": [
        {
          "output_type": "execute_result",
          "data": {
            "text/plain": [
              "1    25000\n",
              "0    25000\n",
              "Name: sentiment, dtype: int64"
            ]
          },
          "metadata": {
            "tags": []
          },
          "execution_count": 5
        }
      ]
    },
    {
      "cell_type": "code",
      "metadata": {
        "id": "e6zbjRFtEpzl",
        "colab_type": "code",
        "outputId": "6c8f6813-c01e-4a8f-9dea-ee9ef59517d5",
        "colab": {
          "base_uri": "https://localhost:8080/",
          "height": 34
        }
      },
      "source": [
        "df['sentiment'][25000]\n",
        "df['sentiment'][24999]"
      ],
      "execution_count": 0,
      "outputs": [
        {
          "output_type": "execute_result",
          "data": {
            "text/plain": [
              "0"
            ]
          },
          "metadata": {
            "tags": []
          },
          "execution_count": 6
        }
      ]
    },
    {
      "cell_type": "markdown",
      "metadata": {
        "id": "UIQOIWo8K5GL",
        "colab_type": "text"
      },
      "source": [
        "It means sentiment from 0-24999 is 0 and 25000 onwards is 1 "
      ]
    },
    {
      "cell_type": "code",
      "metadata": {
        "id": "CvDRA_7yEpwx",
        "colab_type": "code",
        "colab": {}
      },
      "source": [
        "X=df['review']\n",
        "y=df['sentiment']\n"
      ],
      "execution_count": 0,
      "outputs": []
    },
    {
      "cell_type": "code",
      "metadata": {
        "id": "yGQMK9AsLra0",
        "colab_type": "code",
        "outputId": "3226c219-5432-4bfb-9277-3fa65d9fc41e",
        "colab": {
          "base_uri": "https://localhost:8080/",
          "height": 34
        }
      },
      "source": [
        "X.shape"
      ],
      "execution_count": 0,
      "outputs": [
        {
          "output_type": "execute_result",
          "data": {
            "text/plain": [
              "(50000,)"
            ]
          },
          "metadata": {
            "tags": []
          },
          "execution_count": 8
        }
      ]
    },
    {
      "cell_type": "code",
      "metadata": {
        "id": "idkwCnoHEprU",
        "colab_type": "code",
        "outputId": "303fe94d-a182-4516-8497-aaef0508e583",
        "colab": {
          "base_uri": "https://localhost:8080/",
          "height": 34
        }
      },
      "source": [
        "from keras.preprocessing.text import Tokenizer"
      ],
      "execution_count": 0,
      "outputs": [
        {
          "output_type": "stream",
          "text": [
            "Using TensorFlow backend.\n"
          ],
          "name": "stderr"
        }
      ]
    },
    {
      "cell_type": "code",
      "metadata": {
        "id": "VrbBD3IOEpoM",
        "colab_type": "code",
        "colab": {}
      },
      "source": [
        "tkn=Tokenizer()\n",
        "c=tkn.fit_on_texts(X)\n",
        "c"
      ],
      "execution_count": 0,
      "outputs": []
    },
    {
      "cell_type": "code",
      "metadata": {
        "id": "js0TqezKOCgl",
        "colab_type": "code",
        "colab": {}
      },
      "source": [
        "\n",
        "from keras.preprocessing.sequence import pad_sequences"
      ],
      "execution_count": 0,
      "outputs": []
    },
    {
      "cell_type": "code",
      "metadata": {
        "id": "eZdSMH9dNUpm",
        "colab_type": "code",
        "colab": {}
      },
      "source": [
        "max_length=100\n",
        "vocab_size=len(tkn.word_index)+1\n",
        "x_tokens=tkn.texts_to_sequences(X)\n",
        "x_pad=pad_sequences(x_tokens,maxlen=max_length,padding='post')\n"
      ],
      "execution_count": 0,
      "outputs": []
    },
    {
      "cell_type": "code",
      "metadata": {
        "id": "9FSbGJlMNUmW",
        "colab_type": "code",
        "outputId": "767eb9ba-1627-4aa9-cebf-eb3114d97295",
        "colab": {
          "base_uri": "https://localhost:8080/",
          "height": 34
        }
      },
      "source": [
        "vocab_size"
      ],
      "execution_count": 0,
      "outputs": [
        {
          "output_type": "execute_result",
          "data": {
            "text/plain": [
              "124253"
            ]
          },
          "metadata": {
            "tags": []
          },
          "execution_count": 13
        }
      ]
    },
    {
      "cell_type": "markdown",
      "metadata": {
        "id": "hh1rW4elPYRh",
        "colab_type": "text"
      },
      "source": [
        "KERAS working"
      ]
    },
    {
      "cell_type": "code",
      "metadata": {
        "id": "XzoCznPPNUi_",
        "colab_type": "code",
        "colab": {}
      },
      "source": [
        "from keras.models import Sequential\n",
        "from keras.layers import Dense,Embedding,LSTM,GRU\n",
        "from keras.layers.embeddings import Embedding"
      ],
      "execution_count": 0,
      "outputs": []
    },
    {
      "cell_type": "markdown",
      "metadata": {
        "id": "taJOvkxYCJdL",
        "colab_type": "text"
      },
      "source": [
        "Pretrained weights of Glove Embedding (glove6b100dtxt.zip)\n"
      ]
    },
    {
      "cell_type": "code",
      "metadata": {
        "id": "PWhq7QlnU755",
        "colab_type": "code",
        "colab": {}
      },
      "source": [
        "a=zipfile.ZipFile('drive/My Drive/project_data/glove6b100dtxt.zip','r')\n",
        "a.extractall()"
      ],
      "execution_count": 0,
      "outputs": []
    },
    {
      "cell_type": "code",
      "metadata": {
        "id": "F8JjrUudVUcf",
        "colab_type": "code",
        "colab": {}
      },
      "source": [
        "import os"
      ],
      "execution_count": 0,
      "outputs": []
    },
    {
      "cell_type": "code",
      "metadata": {
        "id": "r4_Xn9_ENUfJ",
        "colab_type": "code",
        "outputId": "a3035033-9640-41a3-9ee1-3cedab64af9f",
        "colab": {
          "base_uri": "https://localhost:8080/",
          "height": 34
        }
      },
      "source": [
        "embeddings_index = {}\n",
        "f = open(os.path.join('glove.6B.100d.txt'))\n",
        "for line in f:\n",
        "    values = line.split()\n",
        "    word = values[0]\n",
        "    coefs = np.asarray(values[1:], dtype='float32')\n",
        "    embeddings_index[word] = coefs\n",
        "f.close()\n",
        "\n",
        "print('Found %s word vectors.' % len(embeddings_index))"
      ],
      "execution_count": 0,
      "outputs": [
        {
          "output_type": "stream",
          "text": [
            "Found 400000 word vectors.\n"
          ],
          "name": "stdout"
        }
      ]
    },
    {
      "cell_type": "code",
      "metadata": {
        "id": "_9vL2vWsNUcM",
        "colab_type": "code",
        "colab": {}
      },
      "source": [
        "# Embedding matrix\n",
        "EMBEDDING_DIM=100\n",
        "embedding_matrix = np.zeros((len(tkn.word_index) + 1, EMBEDDING_DIM))\n",
        "for word, i in tkn.word_index.items():\n",
        "    embedding_vector = embeddings_index.get(word)\n",
        "    if embedding_vector is not None:\n",
        "        # words not found in embedding index will be all-zeros.\n",
        "        embedding_matrix[i] = embedding_vector"
      ],
      "execution_count": 0,
      "outputs": []
    },
    {
      "cell_type": "code",
      "metadata": {
        "id": "-goQdHpVNUY_",
        "colab_type": "code",
        "outputId": "f5073bda-3842-4da6-f3c1-d902cd57093d",
        "colab": {
          "base_uri": "https://localhost:8080/",
          "height": 88
        }
      },
      "source": [
        "# Embedding Layer\n",
        "embedding_layer = Embedding(len(tkn.word_index) + 1,\n",
        "                            EMBEDDING_DIM,\n",
        "                            weights=[embedding_matrix],\n",
        "                            input_length=max_length,\n",
        "                            trainable=False)"
      ],
      "execution_count": 0,
      "outputs": [
        {
          "output_type": "stream",
          "text": [
            "WARNING: Logging before flag parsing goes to stderr.\n",
            "W0822 12:22:27.849471 140246914889600 deprecation_wrapper.py:119] From /usr/local/lib/python3.6/dist-packages/keras/backend/tensorflow_backend.py:74: The name tf.get_default_graph is deprecated. Please use tf.compat.v1.get_default_graph instead.\n",
            "\n"
          ],
          "name": "stderr"
        }
      ]
    },
    {
      "cell_type": "markdown",
      "metadata": {
        "id": "wHCbjDfxDt6H",
        "colab_type": "text"
      },
      "source": [
        "Model Building"
      ]
    },
    {
      "cell_type": "code",
      "metadata": {
        "id": "LJ9KY00PNNiy",
        "colab_type": "code",
        "outputId": "de6749da-72ab-4ece-c7e0-39f220e236bf",
        "colab": {
          "base_uri": "https://localhost:8080/",
          "height": 309
        }
      },
      "source": [
        "model=Sequential()\n",
        "model.add(embedding_layer)\n",
        "model.add(LSTM(units=32,dropout=0.2))\n",
        "model.add(Dense(1,activation='sigmoid'))\n",
        "model.compile(loss='binary_crossentropy',optimizer='adam',metrics=['accuracy'])\n"
      ],
      "execution_count": 0,
      "outputs": [
        {
          "output_type": "stream",
          "text": [
            "W0822 12:22:27.893616 140246914889600 deprecation_wrapper.py:119] From /usr/local/lib/python3.6/dist-packages/keras/backend/tensorflow_backend.py:517: The name tf.placeholder is deprecated. Please use tf.compat.v1.placeholder instead.\n",
            "\n",
            "W0822 12:22:27.903962 140246914889600 deprecation_wrapper.py:119] From /usr/local/lib/python3.6/dist-packages/keras/backend/tensorflow_backend.py:4138: The name tf.random_uniform is deprecated. Please use tf.random.uniform instead.\n",
            "\n",
            "W0822 12:22:27.914556 140246914889600 deprecation_wrapper.py:119] From /usr/local/lib/python3.6/dist-packages/keras/backend/tensorflow_backend.py:174: The name tf.get_default_session is deprecated. Please use tf.compat.v1.get_default_session instead.\n",
            "\n",
            "W0822 12:22:27.915448 140246914889600 deprecation_wrapper.py:119] From /usr/local/lib/python3.6/dist-packages/keras/backend/tensorflow_backend.py:181: The name tf.ConfigProto is deprecated. Please use tf.compat.v1.ConfigProto instead.\n",
            "\n",
            "W0822 12:22:31.039756 140246914889600 deprecation.py:506] From /usr/local/lib/python3.6/dist-packages/keras/backend/tensorflow_backend.py:3445: calling dropout (from tensorflow.python.ops.nn_ops) with keep_prob is deprecated and will be removed in a future version.\n",
            "Instructions for updating:\n",
            "Please use `rate` instead of `keep_prob`. Rate should be set to `rate = 1 - keep_prob`.\n",
            "W0822 12:22:31.237424 140246914889600 deprecation_wrapper.py:119] From /usr/local/lib/python3.6/dist-packages/keras/optimizers.py:790: The name tf.train.Optimizer is deprecated. Please use tf.compat.v1.train.Optimizer instead.\n",
            "\n",
            "W0822 12:22:31.262069 140246914889600 deprecation.py:323] From /usr/local/lib/python3.6/dist-packages/tensorflow/python/ops/nn_impl.py:180: add_dispatch_support.<locals>.wrapper (from tensorflow.python.ops.array_ops) is deprecated and will be removed in a future version.\n",
            "Instructions for updating:\n",
            "Use tf.where in 2.0, which has the same broadcast rule as np.where\n"
          ],
          "name": "stderr"
        }
      ]
    },
    {
      "cell_type": "code",
      "metadata": {
        "id": "Xl4oKfHiW5H-",
        "colab_type": "code",
        "colab": {}
      },
      "source": [
        "from sklearn.model_selection import train_test_split"
      ],
      "execution_count": 0,
      "outputs": []
    },
    {
      "cell_type": "code",
      "metadata": {
        "id": "JKEAXPIEXZyR",
        "colab_type": "code",
        "colab": {}
      },
      "source": [
        "\n",
        "X_train,X_test,y_train,y_test=train_test_split(x_pad,y,test_size=0.3)"
      ],
      "execution_count": 0,
      "outputs": []
    },
    {
      "cell_type": "code",
      "metadata": {
        "id": "teIxSLuTWjKM",
        "colab_type": "code",
        "outputId": "00078adc-409a-455f-f7e2-6e0ac6fee50f",
        "colab": {
          "base_uri": "https://localhost:8080/",
          "height": 890
        }
      },
      "source": [
        "model.fit(X_train,y_train,batch_size=128,epochs=25,validation_data=(X_test,y_test),verbose=2)"
      ],
      "execution_count": 0,
      "outputs": [
        {
          "output_type": "stream",
          "text": [
            "Train on 35000 samples, validate on 15000 samples\n",
            "Epoch 1/25\n",
            " - 48s - loss: 0.3329 - acc: 0.8513 - val_loss: 0.2951 - val_acc: 0.8714\n",
            "Epoch 2/25\n",
            " - 47s - loss: 0.3273 - acc: 0.8565 - val_loss: 0.3179 - val_acc: 0.8607\n",
            "Epoch 3/25\n",
            " - 47s - loss: 0.3198 - acc: 0.8601 - val_loss: 0.2976 - val_acc: 0.8673\n",
            "Epoch 4/25\n",
            " - 48s - loss: 0.3190 - acc: 0.8600 - val_loss: 0.2982 - val_acc: 0.8717\n",
            "Epoch 5/25\n",
            " - 47s - loss: 0.3119 - acc: 0.8650 - val_loss: 0.3015 - val_acc: 0.8721\n",
            "Epoch 6/25\n",
            " - 47s - loss: 0.3090 - acc: 0.8657 - val_loss: 0.2968 - val_acc: 0.8711\n",
            "Epoch 7/25\n",
            " - 49s - loss: 0.3047 - acc: 0.8680 - val_loss: 0.3044 - val_acc: 0.8663\n",
            "Epoch 8/25\n",
            " - 47s - loss: 0.3020 - acc: 0.8689 - val_loss: 0.3039 - val_acc: 0.8664\n",
            "Epoch 9/25\n",
            " - 47s - loss: 0.3036 - acc: 0.8669 - val_loss: 0.3010 - val_acc: 0.8703\n",
            "Epoch 10/25\n",
            " - 48s - loss: 0.2989 - acc: 0.8709 - val_loss: 0.2984 - val_acc: 0.8697\n",
            "Epoch 11/25\n",
            " - 49s - loss: 0.2963 - acc: 0.8725 - val_loss: 0.2985 - val_acc: 0.8701\n",
            "Epoch 12/25\n",
            " - 48s - loss: 0.2920 - acc: 0.8755 - val_loss: 0.2953 - val_acc: 0.8700\n",
            "Epoch 13/25\n",
            " - 47s - loss: 0.2894 - acc: 0.8749 - val_loss: 0.3044 - val_acc: 0.8683\n",
            "Epoch 14/25\n",
            " - 47s - loss: 0.2917 - acc: 0.8753 - val_loss: 0.3012 - val_acc: 0.8683\n",
            "Epoch 15/25\n",
            " - 47s - loss: 0.2822 - acc: 0.8771 - val_loss: 0.2995 - val_acc: 0.8711\n",
            "Epoch 16/25\n",
            " - 46s - loss: 0.2812 - acc: 0.8787 - val_loss: 0.2972 - val_acc: 0.8705\n",
            "Epoch 17/25\n",
            " - 47s - loss: 0.2815 - acc: 0.8784 - val_loss: 0.3110 - val_acc: 0.8616\n",
            "Epoch 18/25\n",
            " - 45s - loss: 0.2807 - acc: 0.8814 - val_loss: 0.2943 - val_acc: 0.8697\n",
            "Epoch 19/25\n",
            " - 46s - loss: 0.2735 - acc: 0.8831 - val_loss: 0.3035 - val_acc: 0.8693\n",
            "Epoch 20/25\n",
            " - 45s - loss: 0.2736 - acc: 0.8821 - val_loss: 0.3002 - val_acc: 0.8691\n",
            "Epoch 21/25\n",
            " - 45s - loss: 0.2713 - acc: 0.8846 - val_loss: 0.3085 - val_acc: 0.8675\n",
            "Epoch 22/25\n",
            " - 45s - loss: 0.2731 - acc: 0.8833 - val_loss: 0.2978 - val_acc: 0.8704\n",
            "Epoch 23/25\n",
            " - 45s - loss: 0.2678 - acc: 0.8851 - val_loss: 0.2994 - val_acc: 0.8709\n",
            "Epoch 24/25\n",
            " - 45s - loss: 0.2673 - acc: 0.8872 - val_loss: 0.3012 - val_acc: 0.8707\n",
            "Epoch 25/25\n",
            " - 44s - loss: 0.2656 - acc: 0.8870 - val_loss: 0.2974 - val_acc: 0.8702\n"
          ],
          "name": "stdout"
        },
        {
          "output_type": "execute_result",
          "data": {
            "text/plain": [
              "<keras.callbacks.History at 0x7f837227df28>"
            ]
          },
          "metadata": {
            "tags": []
          },
          "execution_count": 119
        }
      ]
    },
    {
      "cell_type": "markdown",
      "metadata": {
        "id": "pZpsSeBYDywJ",
        "colab_type": "text"
      },
      "source": [
        "Testing with some random reviews"
      ]
    },
    {
      "cell_type": "code",
      "metadata": {
        "id": "oBg_x1PeWi8K",
        "colab_type": "code",
        "outputId": "439e9c46-dbed-4d33-ec35-f57adf9ef6c0",
        "colab": {
          "base_uri": "https://localhost:8080/",
          "height": 101
        }
      },
      "source": [
        "test_sample1='This movie is fantastic ! I really like it because it is so good'\n",
        "test_sample2='Can I get my money back please?'\n",
        "test_sample3='This movie is great'\n",
        "test_sample4='This movie is atrocious'\n",
        "test_sample5='This movie is awesome.'\n",
        "\n",
        "test_samples=[test_sample1,test_sample2,test_sample3,test_sample4,test_sample5]\n",
        "test_sample_token=tkn.texts_to_sequences(test_samples)\n",
        "\n",
        "test_sample_tokens_pad=pad_sequences(test_sample_token,maxlen=max_length)\n",
        "ans=model.predict(x=test_sample_tokens_pad)\n",
        "ans\n",
        "for i in range(len(ans)):\n",
        "  if(ans[i]>0.5):\n",
        "    print('Its a positive review')\n",
        "  else:\n",
        "    print('Its a negative review')"
      ],
      "execution_count": 0,
      "outputs": [
        {
          "output_type": "stream",
          "text": [
            "Its a positive review\n",
            "Its a negative review\n",
            "Its a positive review\n",
            "Its a negative review\n",
            "Its a positive review\n"
          ],
          "name": "stdout"
        }
      ]
    },
    {
      "cell_type": "markdown",
      "metadata": {
        "id": "zb6HWO46D7Cu",
        "colab_type": "text"
      },
      "source": [
        "saving trained weights"
      ]
    },
    {
      "cell_type": "code",
      "metadata": {
        "id": "wqixBKkfWitf",
        "colab_type": "code",
        "colab": {}
      },
      "source": [
        "model.save_weights('senti_trained_wgts.h5')"
      ],
      "execution_count": 0,
      "outputs": []
    },
    {
      "cell_type": "code",
      "metadata": {
        "id": "WWL8fQjyReB9",
        "colab_type": "code",
        "colab": {}
      },
      "source": [
        "# model.load_weights('drive/My Drive/project_data/senti_trained_wgts.h5')"
      ],
      "execution_count": 0,
      "outputs": []
    }
  ]
}